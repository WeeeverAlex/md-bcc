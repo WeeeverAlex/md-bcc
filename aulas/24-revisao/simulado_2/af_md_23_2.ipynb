{
 "cells": [
  {
   "cell_type": "markdown",
   "id": "f62ded59",
   "metadata": {},
   "source": [
    "# AF de MEGADADOS\n",
    "\n",
    "A prova tem duração de **2h30**. Veja mais informações no Blackboard!\n",
    "\n",
    "Não se esqueça de **anexar o notebook** no **Blackboard** ao final da prova. Deixe as células **executadas**!"
   ]
  },
  {
   "cell_type": "markdown",
   "id": "ee1fa31d",
   "metadata": {},
   "source": [
    "**NOME**: SEU NOME AQUI!"
   ]
  },
  {
   "cell_type": "markdown",
   "id": "5244ce30",
   "metadata": {},
   "source": [
    "## Insper autograding!\n",
    "\n",
    "Para receber feedback dos exercício, iremos utilizar o `insper autograding`.\n",
    "\n",
    "**Importante**: você precisará do `.env`, utilize o mesmo procedimento feito na aula de **Spark**!"
   ]
  },
  {
   "cell_type": "code",
   "execution_count": null,
   "id": "46762e1a-ab06-4efb-8d2f-896c3c56d7e5",
   "metadata": {},
   "outputs": [],
   "source": [
    "# !pip install -U git+https://github.com/macielcalebe/insperautograding.git"
   ]
  },
  {
   "cell_type": "markdown",
   "id": "b33a2a9b",
   "metadata": {},
   "source": [
    "## Como resolver os exercícios?\n",
    "\n",
    "Crie a base da prova em sua máquina (Exercício 1). Utilize o notebook, MySQL Workbench ou o conector para testar as queries e soluções. Quando estiver bastante certo de que a resposta está correta, faça a submissão para o servidor."
   ]
  },
  {
   "cell_type": "markdown",
   "id": "96d7f2f2-d556-4679-bad6-a426ffe68d27",
   "metadata": {},
   "source": [
    "## Base de dados\n",
    "\n",
    "Em alguns exercícios, iremos utilizar a base de dados `af_md_23_2`.\n",
    "\n",
    "Execute o script `mensagens.sql` no Workbench para criar e popular a base."
   ]
  },
  {
   "cell_type": "markdown",
   "id": "69ee33d4",
   "metadata": {},
   "source": [
    "## Import das bibliotecas\n",
    "\n",
    "Vamos realizar o import das bibliotecas."
   ]
  },
  {
   "cell_type": "code",
   "execution_count": 2,
   "id": "b2f1597a",
   "metadata": {},
   "outputs": [],
   "source": [
    "import mysql.connector\n",
    "import os\n",
    "import insperautograder.jupyter as ia\n",
    "from functools import partial\n",
    "from pyspark.sql import SparkSession\n",
    "from dotenv import load_dotenv"
   ]
  },
  {
   "cell_type": "markdown",
   "id": "33eefa0d",
   "metadata": {},
   "source": [
    "E vamos criar nosso HELPER de conexão com o banco! Perceba que, uma vez configurado o `.env` não precisaremos mais informar usuários, senhas e URLs!"
   ]
  },
  {
   "cell_type": "code",
   "execution_count": 4,
   "id": "f5147533",
   "metadata": {},
   "outputs": [],
   "source": [
    "load_dotenv(override=True)\n",
    "\n",
    "def get_connection_helper(database):\n",
    "\n",
    "    def run_db_query(connection, query, args=None):\n",
    "        with connection.cursor() as cursor:\n",
    "            results = cursor.execute(query, args, multi=True)\n",
    "            for i, result in enumerate(results):\n",
    "                if result.with_rows:\n",
    "                    print(f\"Resultado query {i}:\")\n",
    "                    for line in result.fetchall():\n",
    "                        print(line)\n",
    "                else:\n",
    "                    print(f\"Query {i} executada!\")\n",
    "\n",
    "    connection = mysql.connector.connect(\n",
    "        host=os.getenv(\"MD_DB_SERVER\"),\n",
    "        user=os.getenv(\"MD_DB_USERNAME\"),\n",
    "        password=os.getenv(\"MD_DB_PASSWORD\"),\n",
    "        database=database,\n",
    "    )\n",
    "    return connection, partial(run_db_query, connection)\n",
    "\n",
    "\n",
    "connection, db = get_connection_helper(\"af_md_23_2\")"
   ]
  },
  {
   "cell_type": "code",
   "execution_count": 5,
   "id": "fbd412e5-b41e-4e7f-977c-7c0493c7020f",
   "metadata": {},
   "outputs": [
    {
     "name": "stderr",
     "output_type": "stream",
     "text": [
      "24/05/26 13:43:15 WARN Utils: Your hostname, MacBook-Air-de-Quental.local resolves to a loopback address: 127.0.0.1; using 192.168.15.7 instead (on interface en0)\n",
      "24/05/26 13:43:15 WARN Utils: Set SPARK_LOCAL_IP if you need to bind to another address\n",
      "Setting default log level to \"WARN\".\n",
      "To adjust logging level use sc.setLogLevel(newLevel). For SparkR, use setLogLevel(newLevel).\n",
      "24/05/26 13:43:15 WARN NativeCodeLoader: Unable to load native-hadoop library for your platform... using builtin-java classes where applicable\n"
     ]
    }
   ],
   "source": [
    "spark = SparkSession.builder.appName(\"MinhaAplicacao\").getOrCreate()\n",
    "sc = spark.sparkContext"
   ]
  },
  {
   "cell_type": "markdown",
   "id": "86e481dc",
   "metadata": {},
   "source": [
    "### Notas\n",
    "\n",
    "As primeiras cinco questões, que possuem correção automática, valem 60% da nota da prova.\n",
    "\n",
    "Na API de correção automática a nota de cada questão será ponderada pelo seu peso. A nota será apresentada no intervalo 0 a 10, multiplique por 0.6 para saber a nota final considerando toda a prova.\n",
    "\n",
    "Para conferir a nota da correção automática da prova, utilize:"
   ]
  },
  {
   "cell_type": "code",
   "execution_count": 6,
   "id": "9d0c9a82",
   "metadata": {},
   "outputs": [
    {
     "data": {
      "text/markdown": [
       "|    | Atividade   | Exercício   |   Peso |   Nota |\n",
       "|---:|:------------|:------------|-------:|-------:|\n",
       "|  0 | af_md_23_2  | ex01spark   |      2 |      0 |\n",
       "|  1 | af_md_23_2  | ex02spark   |      3 |      0 |\n",
       "|  2 | af_md_23_2  | ex03trigger |      3 |      0 |\n",
       "|  3 | af_md_23_2  | ex04perm    |      1 |      0 |\n",
       "|  4 | af_md_23_2  | ex05python  |      2 |      0 |"
      ],
      "text/plain": [
       "<IPython.core.display.Markdown object>"
      ]
     },
     "metadata": {},
     "output_type": "display_data"
    }
   ],
   "source": [
    "ia.grades(task=\"af_md_23_2\")"
   ]
  },
  {
   "cell_type": "code",
   "execution_count": 7,
   "id": "088634f3",
   "metadata": {},
   "outputs": [
    {
     "data": {
      "text/markdown": [
       "|    | Tarefa     |   Nota |\n",
       "|---:|:-----------|-------:|\n",
       "|  0 | af_md_23_2 |      0 |"
      ],
      "text/plain": [
       "<IPython.core.display.Markdown object>"
      ]
     },
     "metadata": {},
     "output_type": "display_data"
    }
   ],
   "source": [
    "ia.grades(by=\"TASK\", task=\"af_md_23_2\")"
   ]
  },
  {
   "cell_type": "markdown",
   "id": "f72f6b92-87dc-4151-9f9b-1fb0e33e2174",
   "metadata": {},
   "source": [
    "**Exercício 1**:\n",
    "\n",
    "O arquivo `timestamps.txt` contém uma lista de timestamps indicando quando foram feitos acessos a um sistema, um por linha. Cada timestamp é uma string no formato `YYYY-MM-DD HH:MM:SS`. Escreva uma função em Spark que recebe um rdd e um ano (nesta ordem) e retorna quantos acessos houveram em um determinado ano."
   ]
  },
  {
   "cell_type": "code",
   "execution_count": 16,
   "id": "6ac26d97-8b4c-4d42-a708-857d1a16a5b2",
   "metadata": {},
   "outputs": [
    {
     "name": "stdout",
     "output_type": "stream",
     "text": [
      "24985\n",
      "25022\n"
     ]
    }
   ],
   "source": [
    "def total_acessos(rdd, ano):\n",
    "    # Filtrar os timestamps que pertencem ao ano especificado\n",
    "    acessos_no_ano = rdd.filter(lambda x: x.startswith(ano))\n",
    "    \n",
    "    # Contar o número de acessos no ano filtrado\n",
    "    total_acessos_ano = acessos_no_ano.count()\n",
    "    \n",
    "    return total_acessos_ano\n",
    "\n",
    "rdd = sc.textFile(\"timestamps.txt\")\n",
    "\n",
    "print(total_acessos(rdd, \"2022\"))\n",
    "print(total_acessos(rdd, \"2023\"))"
   ]
  },
  {
   "cell_type": "markdown",
   "id": "b7501386-fd97-49e3-bd37-4887a0ec42ea",
   "metadata": {},
   "source": [
    "Após testar localmente e considerar sua solução correta, faça o envio clicando no botão abaixo!"
   ]
  },
  {
   "cell_type": "code",
   "execution_count": 10,
   "id": "b21dc20f-d45b-44db-9db7-2a0af0c31f4a",
   "metadata": {},
   "outputs": [
    {
     "data": {
      "application/vnd.jupyter.widget-view+json": {
       "model_id": "eb156fbd9d7f45c8a6af7e108aa1af52",
       "version_major": 2,
       "version_minor": 0
      },
      "text/plain": [
       "interactive(children=(Button(description='Enviar ex01spark', style=ButtonStyle()), Output()), _dom_classes=('w…"
      ]
     },
     "execution_count": 10,
     "metadata": {},
     "output_type": "execute_result"
    }
   ],
   "source": [
    "ia.sender(answer=\"total_acessos\", task=\"af_md_23_2\", question=\"ex01spark\", answer_type=\"pycode\")"
   ]
  },
  {
   "cell_type": "markdown",
   "id": "5f98e18c-e1e5-4b78-a503-03e2395f9292",
   "metadata": {},
   "source": [
    "**Exercício 2**:\n",
    "\n",
    "Ainda no arquivo `timestamps.txt`, escreva uma função em Spark que recebe um rdd e retorna em ordem decrescente as 20 datas em que houveram mais acessos junto da quantidade de acessos em cada data."
   ]
  },
  {
   "cell_type": "code",
   "execution_count": 18,
   "id": "643c4c72-35a2-45c8-aa17-59ce864eb033",
   "metadata": {},
   "outputs": [
    {
     "data": {
      "text/plain": [
       "[('2021-12-15', 161),\n",
       " ('2022-10-09', 154),\n",
       " ('2020-07-13', 151),\n",
       " ('2021-10-05', 150),\n",
       " ('2021-10-29', 149),\n",
       " ('2020-09-11', 148),\n",
       " ('2023-07-02', 148),\n",
       " ('2022-10-25', 148),\n",
       " ('2020-09-26', 147),\n",
       " ('2020-07-01', 147),\n",
       " ('2021-08-15', 147),\n",
       " ('2021-06-17', 145),\n",
       " ('2022-06-23', 144),\n",
       " ('2021-09-24', 144),\n",
       " ('2023-07-23', 143),\n",
       " ('2022-09-17', 143),\n",
       " ('2020-12-26', 143),\n",
       " ('2021-08-03', 142),\n",
       " ('2021-11-25', 142),\n",
       " ('2022-07-02', 142)]"
      ]
     },
     "execution_count": 18,
     "metadata": {},
     "output_type": "execute_result"
    }
   ],
   "source": [
    "def top20(rdd):\n",
    "    # Extrair apenas a data de cada timestamp (YYYY-MM-DD)\n",
    "    datas = rdd.map(lambda x: x.split(' ')[0])\n",
    "    \n",
    "    # Contar o número de acessos para cada data\n",
    "    contagem_datas = datas.map(lambda x: (x, 1)).reduceByKey(lambda a, b: a + b)\n",
    "    \n",
    "    # Ordenar as datas pelo número de acessos em ordem decrescente\n",
    "    datas_ordenadas = contagem_datas.sortBy(lambda x: x[1], ascending=False)\n",
    "    \n",
    "    # Pegar as 20 datas com mais acessos\n",
    "    top_20_datas = datas_ordenadas.take(20)\n",
    "    \n",
    "    return top_20_datas\n",
    "\n",
    "top20(rdd)"
   ]
  },
  {
   "cell_type": "markdown",
   "id": "294e1c42-b9e5-4a8d-a19b-ce06f8904836",
   "metadata": {},
   "source": [
    "Após testar localmente e considerar sua solução correta, faça o envio clicando no botão abaixo!"
   ]
  },
  {
   "cell_type": "code",
   "execution_count": 20,
   "id": "f2f77c03-6331-4488-aa1c-eba78ae97c25",
   "metadata": {},
   "outputs": [
    {
     "data": {
      "application/vnd.jupyter.widget-view+json": {
       "model_id": "b3f7ef26c9a842d4abbe10a26dd64b31",
       "version_major": 2,
       "version_minor": 0
      },
      "text/plain": [
       "interactive(children=(Button(description='Enviar ex02spark', style=ButtonStyle()), Output()), _dom_classes=('w…"
      ]
     },
     "execution_count": 20,
     "metadata": {},
     "output_type": "execute_result"
    }
   ],
   "source": [
    "ia.sender(answer=\"top20\", task=\"af_md_23_2\", question=\"ex02spark\", answer_type=\"pycode\")"
   ]
  },
  {
   "cell_type": "markdown",
   "id": "ee16915c-4fb3-42c5-bb78-edea6a169df0",
   "metadata": {},
   "source": [
    "**Exercício 3**:\n",
    "\n",
    "Vimos na primeira parte do curso como podemos utilizar índices para acelerar a performance de *queries*. RDBMS como o MySQL suportam, inclusive, a construção de índices por múltiplas colunas.\n",
    "\n",
    "Entretanto, em certas situações, como quando são realizadas primariamente buscar por igualdade em múltiplas colunas, uma alternativa é utilizar **hashing** de índices compostos. Nesta técnica, ao invés de construir um índice composto por múltiplas colunas e realizar as consultas neste formato:\n",
    "\n",
    "```mysql\n",
    "SELECT t.res1,\n",
    "       t.res2\n",
    "FROM tabela t\n",
    "WHERE t.col1 = 'algum valor'\n",
    "  AND t.col2 = 'outro valor'\n",
    "  AND t.col3 = 'criterio de busca'\n",
    "```\n",
    "\n",
    "É construida manualmente uma coluna que contém o **hash da concatenação das colunas utilizadas na query**. Então, é criado um índice apenas na coluna que contém o hash. Assim, a *query* de consulta passa a ser, por exemplo:\n",
    "\n",
    "\n",
    "```mysql\n",
    "SELECT t.res1,\n",
    "       t.res2\n",
    "FROM tabela t\n",
    "WHERE t.coluna_hash = MD5(CONCAT('algum valor', 'outro valor', 'criterio de busca'))\n",
    "```\n",
    "\n",
    "Neste exercício, você deve construir uma *trigger* para atualizar a coluna chamada `coluna_hash` da tabela de `mensagens` quando ocorrer um **update** na tabela de mensagens.\n",
    "\n",
    "A tabela estará assim:\n",
    "| id | col1    | col2     | col3    | mensagem                                 |\n",
    "|----|---------|----------|---------|------------------------------------------|\n",
    "| 1  | ANA     | SILVA    | ABACATE | Oi, bom dia                              |\n",
    "| 2  | MARIA   | PEREIRA  | PERA    | Me liga quando puder                     |\n",
    "| 3  | JOSE    | FERREIRA | ABACATE | Cade vc?                                 |\n",
    "| 4  | ANTONIO | SILVA    | MACA    | Qual o status do pedido?                 |\n",
    "| 5  | CAMILA  | WOK      | PERA    | Conseguiu analisar?                      |\n",
    "| 6  | DANILO  | SCHINLE  | MACA    | Tudo certo pro jantar, vc vem?           |\n",
    "| 7  | PEDRO   | PACKEL   | BANANA  | Complicado, vai ter que conferir com ela |\n",
    "| 8  | MANOELA | NANTES   | PERA    | O lugar era lindo                        |\n",
    "| 9  | CELSO   | ALIVERRI | ABACATE | A visao eh adequada                      |\n",
    "| 10 | ELLEN   | WETLKS   | UVA     | Vamos juntos                             |\n",
    "\n",
    "Por exemplo, após criar a coluna `coluna_hash`, ao fazer um *update* no id `1`, ficará assim:\n",
    "\n",
    "| id | col1    | col2     | col3    | mensagem                                 | coluna_hash                              |\n",
    "|----|---------|----------|---------|------------------------------------------|------------------------------------------|\n",
    "| 1  | ANA     | SILVA    | UVA     | Oi, bom dia                              | 2d0b14a194488b9080e080c8a7d82ef88fddbe1e |\n",
    "| 2  | MARIA   | PEREIRA  | PERA    | Me liga quando puder                     |                                          |\n",
    "| 3  | JOSE    | FERREIRA | ABACATE | Cade vc?                                 |                                          |\n",
    "| 4  | ANTONIO | SILVA    | MACA    | Qual o status do pedido?                 |                                          |\n",
    "| 5  | CAMILA  | WOK      | PERA    | Conseguiu analisar?                      |                                          |\n",
    "| 6  | DANILO  | SCHINLE  | MACA    | Tudo certo pro jantar, vc vem?           |                                          |\n",
    "| 7  | PEDRO   | PACKEL   | BANANA  | Complicado, vai ter que conferir com ela |                                          |\n",
    "| 8  | MANOELA | NANTES   | PERA    | O lugar era lindo                        |                                          |\n",
    "| 9  | CELSO   | ALIVERRI | ABACATE | A visao eh adequada                      |                                          |\n",
    "| 10 | ELLEN   | WETLKS   | UVA     | Vamos juntos                             |                                          |\n",
    "\n",
    "**Obs**:\n",
    "- Execute o script `mensagens.sql` para construir a base de dados;\n",
    "- Faça o DDL, em seu servidor local, para criar a coluna `coluna_hash` com array `CHAR` de tamanho 40. No servidor de testes esta coluna já existe e você não deve enviar esta parte;\n",
    "- Imagine que o índice já existe na coluna de hash (não é relevante para o exercício que ele realmente exista);\n",
    "- A coluna `coluna_hash` deve ser calculada com o uso da função `SHA1` a partir da concatenação dos colunas `col1`, `col2` e `col3` (nesta ordem e sem espaçadores).\n"
   ]
  },
  {
   "cell_type": "code",
   "execution_count": 28,
   "id": "f9237653-9e99-4932-81b0-ebcfc948deaa",
   "metadata": {},
   "outputs": [
    {
     "name": "stdout",
     "output_type": "stream",
     "text": [
      "Query 0 executada!\n",
      "Query 1 executada!\n"
     ]
    }
   ],
   "source": [
    "sql_ex03 = \"\"\"\n",
    "-- Dropar a trigger existente se já existir\n",
    "DROP TRIGGER IF EXISTS update_coluna_hash;\n",
    "\n",
    "-- Criar a trigger para atualizar a coluna `coluna_hash` em caso de UPDATE\n",
    "CREATE TRIGGER update_coluna_hash\n",
    "BEFORE UPDATE ON `mensagens`\n",
    "FOR EACH ROW\n",
    "BEGIN\n",
    "    SET NEW.coluna_hash = SHA1(CONCAT(NEW.col1, NEW.col2, NEW.col3));\n",
    "END;\n",
    "\"\"\"\n",
    "\n",
    "db(sql_ex03)\n"
   ]
  },
  {
   "cell_type": "markdown",
   "id": "fb3e40b2-8bde-42cf-98fd-793996f20ffd",
   "metadata": {},
   "source": [
    "Após testar localmente e considerar sua solução correta, faça o envio clicando no botão abaixo!"
   ]
  },
  {
   "cell_type": "code",
   "execution_count": 22,
   "id": "829d0f91-c6a7-4e51-8cef-a3c4ad0043d5",
   "metadata": {},
   "outputs": [
    {
     "data": {
      "application/vnd.jupyter.widget-view+json": {
       "model_id": "7727fd22b6434bddae185aaea1cfc433",
       "version_major": 2,
       "version_minor": 0
      },
      "text/plain": [
       "interactive(children=(Button(description='Enviar ex03trigger', style=ButtonStyle()), Output()), _dom_classes=(…"
      ]
     },
     "execution_count": 22,
     "metadata": {},
     "output_type": "execute_result"
    }
   ],
   "source": [
    "ia.sender(answer=\"sql_ex03\", task=\"af_md_23_2\", question=\"ex03trigger\", answer_type=\"pyvar\")"
   ]
  },
  {
   "cell_type": "markdown",
   "id": "286f8304-3ec5-43df-8e8a-115009a95296",
   "metadata": {},
   "source": [
    "**Exercício 04**:\n",
    "\n",
    "Considere que foi criado o usuário `u_consult` com login a partir de qualquer host.\n",
    "\n",
    "O usuário possui permissão de **LEITURA** e **INSERÇÃO** na tabela de `mensagens` utilizada no exercício anterior. Entretanto, ele não deveria poder **INSERIR** na tabela `mensagens`.\n",
    "\n",
    "Faça as atualizações, revogando as permissões não mais necessárias."
   ]
  },
  {
   "cell_type": "code",
   "execution_count": 29,
   "id": "65f91f41-7928-4e42-bf21-935117bba8e6",
   "metadata": {},
   "outputs": [
    {
     "ename": "ProgrammingError",
     "evalue": "1147 (42000): There is no such grant defined for user 'u_consult' on host '%' on table 'mensagens'",
     "output_type": "error",
     "traceback": [
      "\u001b[0;31m---------------------------------------------------------------------------\u001b[0m",
      "\u001b[0;31mMySQLInterfaceError\u001b[0m                       Traceback (most recent call last)",
      "File \u001b[0;32m/Library/Frameworks/Python.framework/Versions/3.11/lib/python3.11/site-packages/mysql/connector/connection_cext.py:661\u001b[0m, in \u001b[0;36mCMySQLConnection.cmd_query\u001b[0;34m(self, query, raw, buffered, raw_as_string)\u001b[0m\n\u001b[1;32m    660\u001b[0m         query \u001b[38;5;241m=\u001b[39m query\u001b[38;5;241m.\u001b[39mencode(\u001b[38;5;124m\"\u001b[39m\u001b[38;5;124mutf-8\u001b[39m\u001b[38;5;124m\"\u001b[39m)\n\u001b[0;32m--> 661\u001b[0m     \u001b[38;5;28;43mself\u001b[39;49m\u001b[38;5;241;43m.\u001b[39;49m\u001b[43m_cmysql\u001b[49m\u001b[38;5;241;43m.\u001b[39;49m\u001b[43mquery\u001b[49m\u001b[43m(\u001b[49m\n\u001b[1;32m    662\u001b[0m \u001b[43m        \u001b[49m\u001b[43mquery\u001b[49m\u001b[43m,\u001b[49m\n\u001b[1;32m    663\u001b[0m \u001b[43m        \u001b[49m\u001b[43mraw\u001b[49m\u001b[38;5;241;43m=\u001b[39;49m\u001b[43mraw\u001b[49m\u001b[43m,\u001b[49m\n\u001b[1;32m    664\u001b[0m \u001b[43m        \u001b[49m\u001b[43mbuffered\u001b[49m\u001b[38;5;241;43m=\u001b[39;49m\u001b[43mbuffered\u001b[49m\u001b[43m,\u001b[49m\n\u001b[1;32m    665\u001b[0m \u001b[43m        \u001b[49m\u001b[43mraw_as_string\u001b[49m\u001b[38;5;241;43m=\u001b[39;49m\u001b[43mraw_as_string\u001b[49m\u001b[43m,\u001b[49m\n\u001b[1;32m    666\u001b[0m \u001b[43m        \u001b[49m\u001b[43mquery_attrs\u001b[49m\u001b[38;5;241;43m=\u001b[39;49m\u001b[38;5;28;43mself\u001b[39;49m\u001b[38;5;241;43m.\u001b[39;49m\u001b[43mquery_attrs\u001b[49m\u001b[43m,\u001b[49m\n\u001b[1;32m    667\u001b[0m \u001b[43m    \u001b[49m\u001b[43m)\u001b[49m\n\u001b[1;32m    668\u001b[0m \u001b[38;5;28;01mexcept\u001b[39;00m MySQLInterfaceError \u001b[38;5;28;01mas\u001b[39;00m err:\n",
      "\u001b[0;31mMySQLInterfaceError\u001b[0m: There is no such grant defined for user 'u_consult' on host '%' on table 'mensagens'",
      "\nThe above exception was the direct cause of the following exception:\n",
      "\u001b[0;31mProgrammingError\u001b[0m                          Traceback (most recent call last)",
      "Cell \u001b[0;32mIn[29], line 6\u001b[0m\n\u001b[1;32m      1\u001b[0m sql_ex04 \u001b[38;5;241m=\u001b[39m \u001b[38;5;124m\"\"\"\u001b[39m\n\u001b[1;32m      2\u001b[0m \u001b[38;5;124m-- Revogar permissão de inserção na tabela `mensagens` para o usuário `u_consult`\u001b[39m\n\u001b[1;32m      3\u001b[0m \u001b[38;5;124mREVOKE INSERT ON `af_md_23_2`.`mensagens` FROM \u001b[39m\u001b[38;5;124m'\u001b[39m\u001b[38;5;124mu_consult\u001b[39m\u001b[38;5;124m'\u001b[39m\u001b[38;5;124m@\u001b[39m\u001b[38;5;124m'\u001b[39m\u001b[38;5;124m%\u001b[39m\u001b[38;5;124m'\u001b[39m\u001b[38;5;124m;\u001b[39m\n\u001b[1;32m      4\u001b[0m \u001b[38;5;124m\"\"\"\u001b[39m\n\u001b[0;32m----> 6\u001b[0m \u001b[43mdb\u001b[49m\u001b[43m(\u001b[49m\u001b[43msql_ex04\u001b[49m\u001b[43m)\u001b[49m\n",
      "Cell \u001b[0;32mIn[4], line 7\u001b[0m, in \u001b[0;36mget_connection_helper.<locals>.run_db_query\u001b[0;34m(connection, query, args)\u001b[0m\n\u001b[1;32m      5\u001b[0m \u001b[38;5;28;01mdef\u001b[39;00m \u001b[38;5;21mrun_db_query\u001b[39m(connection, query, args\u001b[38;5;241m=\u001b[39m\u001b[38;5;28;01mNone\u001b[39;00m):\n\u001b[1;32m      6\u001b[0m     \u001b[38;5;28;01mwith\u001b[39;00m connection\u001b[38;5;241m.\u001b[39mcursor() \u001b[38;5;28;01mas\u001b[39;00m cursor:\n\u001b[0;32m----> 7\u001b[0m         results \u001b[38;5;241m=\u001b[39m \u001b[43mcursor\u001b[49m\u001b[38;5;241;43m.\u001b[39;49m\u001b[43mexecute\u001b[49m\u001b[43m(\u001b[49m\u001b[43mquery\u001b[49m\u001b[43m,\u001b[49m\u001b[43m \u001b[49m\u001b[43margs\u001b[49m\u001b[43m,\u001b[49m\u001b[43m \u001b[49m\u001b[43mmulti\u001b[49m\u001b[38;5;241;43m=\u001b[39;49m\u001b[38;5;28;43;01mTrue\u001b[39;49;00m\u001b[43m)\u001b[49m\n\u001b[1;32m      8\u001b[0m         \u001b[38;5;28;01mfor\u001b[39;00m i, result \u001b[38;5;129;01min\u001b[39;00m \u001b[38;5;28menumerate\u001b[39m(results):\n\u001b[1;32m      9\u001b[0m             \u001b[38;5;28;01mif\u001b[39;00m result\u001b[38;5;241m.\u001b[39mwith_rows:\n",
      "File \u001b[0;32m/Library/Frameworks/Python.framework/Versions/3.11/lib/python3.11/site-packages/mysql/connector/cursor_cext.py:374\u001b[0m, in \u001b[0;36mCMySQLCursor.execute\u001b[0;34m(self, operation, params, multi)\u001b[0m\n\u001b[1;32m    369\u001b[0m             \u001b[38;5;28;01mraise\u001b[39;00m ProgrammingError(\n\u001b[1;32m    370\u001b[0m                 \u001b[38;5;124m\"\u001b[39m\u001b[38;5;124mNot all parameters were used in the SQL statement\u001b[39m\u001b[38;5;124m\"\u001b[39m\n\u001b[1;32m    371\u001b[0m             )\n\u001b[1;32m    373\u001b[0m \u001b[38;5;28;01mtry\u001b[39;00m:\n\u001b[0;32m--> 374\u001b[0m     result \u001b[38;5;241m=\u001b[39m \u001b[38;5;28;43mself\u001b[39;49m\u001b[38;5;241;43m.\u001b[39;49m\u001b[43m_cnx\u001b[49m\u001b[38;5;241;43m.\u001b[39;49m\u001b[43mcmd_query\u001b[49m\u001b[43m(\u001b[49m\n\u001b[1;32m    375\u001b[0m \u001b[43m        \u001b[49m\u001b[43mstmt\u001b[49m\u001b[43m,\u001b[49m\n\u001b[1;32m    376\u001b[0m \u001b[43m        \u001b[49m\u001b[43mraw\u001b[49m\u001b[38;5;241;43m=\u001b[39;49m\u001b[38;5;28;43mself\u001b[39;49m\u001b[38;5;241;43m.\u001b[39;49m\u001b[43m_raw\u001b[49m\u001b[43m,\u001b[49m\n\u001b[1;32m    377\u001b[0m \u001b[43m        \u001b[49m\u001b[43mbuffered\u001b[49m\u001b[38;5;241;43m=\u001b[39;49m\u001b[38;5;28;43mself\u001b[39;49m\u001b[38;5;241;43m.\u001b[39;49m\u001b[43m_buffered\u001b[49m\u001b[43m,\u001b[49m\n\u001b[1;32m    378\u001b[0m \u001b[43m        \u001b[49m\u001b[43mraw_as_string\u001b[49m\u001b[38;5;241;43m=\u001b[39;49m\u001b[38;5;28;43mself\u001b[39;49m\u001b[38;5;241;43m.\u001b[39;49m\u001b[43m_raw_as_string\u001b[49m\u001b[43m,\u001b[49m\n\u001b[1;32m    379\u001b[0m \u001b[43m    \u001b[49m\u001b[43m)\u001b[49m\n\u001b[1;32m    380\u001b[0m \u001b[38;5;28;01mexcept\u001b[39;00m MySQLInterfaceError \u001b[38;5;28;01mas\u001b[39;00m err:\n\u001b[1;32m    381\u001b[0m     \u001b[38;5;28;01mraise\u001b[39;00m get_mysql_exception(\n\u001b[1;32m    382\u001b[0m         msg\u001b[38;5;241m=\u001b[39merr\u001b[38;5;241m.\u001b[39mmsg, errno\u001b[38;5;241m=\u001b[39merr\u001b[38;5;241m.\u001b[39merrno, sqlstate\u001b[38;5;241m=\u001b[39merr\u001b[38;5;241m.\u001b[39msqlstate\n\u001b[1;32m    383\u001b[0m     ) \u001b[38;5;28;01mfrom\u001b[39;00m \u001b[38;5;21;01merr\u001b[39;00m\n",
      "File \u001b[0;32m/Library/Frameworks/Python.framework/Versions/3.11/lib/python3.11/site-packages/mysql/connector/opentelemetry/context_propagation.py:74\u001b[0m, in \u001b[0;36mwith_context_propagation.<locals>.wrapper\u001b[0;34m(cnx, *args, **kwargs)\u001b[0m\n\u001b[1;32m     72\u001b[0m \u001b[38;5;250m\u001b[39m\u001b[38;5;124;03m\"\"\"Context propagation decorator.\"\"\"\u001b[39;00m\n\u001b[1;32m     73\u001b[0m \u001b[38;5;28;01mif\u001b[39;00m \u001b[38;5;129;01mnot\u001b[39;00m OTEL_ENABLED \u001b[38;5;129;01mor\u001b[39;00m \u001b[38;5;129;01mnot\u001b[39;00m cnx\u001b[38;5;241m.\u001b[39motel_context_propagation:\n\u001b[0;32m---> 74\u001b[0m     \u001b[38;5;28;01mreturn\u001b[39;00m \u001b[43mmethod\u001b[49m\u001b[43m(\u001b[49m\u001b[43mcnx\u001b[49m\u001b[43m,\u001b[49m\u001b[43m \u001b[49m\u001b[38;5;241;43m*\u001b[39;49m\u001b[43margs\u001b[49m\u001b[43m,\u001b[49m\u001b[43m \u001b[49m\u001b[38;5;241;43m*\u001b[39;49m\u001b[38;5;241;43m*\u001b[39;49m\u001b[43mkwargs\u001b[49m\u001b[43m)\u001b[49m\n\u001b[1;32m     76\u001b[0m current_span \u001b[38;5;241m=\u001b[39m trace\u001b[38;5;241m.\u001b[39mget_current_span()\n\u001b[1;32m     77\u001b[0m tp_header \u001b[38;5;241m=\u001b[39m \u001b[38;5;28;01mNone\u001b[39;00m\n",
      "File \u001b[0;32m/Library/Frameworks/Python.framework/Versions/3.11/lib/python3.11/site-packages/mysql/connector/connection_cext.py:669\u001b[0m, in \u001b[0;36mCMySQLConnection.cmd_query\u001b[0;34m(self, query, raw, buffered, raw_as_string)\u001b[0m\n\u001b[1;32m    661\u001b[0m     \u001b[38;5;28mself\u001b[39m\u001b[38;5;241m.\u001b[39m_cmysql\u001b[38;5;241m.\u001b[39mquery(\n\u001b[1;32m    662\u001b[0m         query,\n\u001b[1;32m    663\u001b[0m         raw\u001b[38;5;241m=\u001b[39mraw,\n\u001b[0;32m   (...)\u001b[0m\n\u001b[1;32m    666\u001b[0m         query_attrs\u001b[38;5;241m=\u001b[39m\u001b[38;5;28mself\u001b[39m\u001b[38;5;241m.\u001b[39mquery_attrs,\n\u001b[1;32m    667\u001b[0m     )\n\u001b[1;32m    668\u001b[0m \u001b[38;5;28;01mexcept\u001b[39;00m MySQLInterfaceError \u001b[38;5;28;01mas\u001b[39;00m err:\n\u001b[0;32m--> 669\u001b[0m     \u001b[38;5;28;01mraise\u001b[39;00m get_mysql_exception(\n\u001b[1;32m    670\u001b[0m         err\u001b[38;5;241m.\u001b[39merrno, msg\u001b[38;5;241m=\u001b[39merr\u001b[38;5;241m.\u001b[39mmsg, sqlstate\u001b[38;5;241m=\u001b[39merr\u001b[38;5;241m.\u001b[39msqlstate\n\u001b[1;32m    671\u001b[0m     ) \u001b[38;5;28;01mfrom\u001b[39;00m \u001b[38;5;21;01merr\u001b[39;00m\n\u001b[1;32m    672\u001b[0m \u001b[38;5;28;01mexcept\u001b[39;00m \u001b[38;5;167;01mAttributeError\u001b[39;00m \u001b[38;5;28;01mas\u001b[39;00m err:\n\u001b[1;32m    673\u001b[0m     addr \u001b[38;5;241m=\u001b[39m (\n\u001b[1;32m    674\u001b[0m         \u001b[38;5;28mself\u001b[39m\u001b[38;5;241m.\u001b[39m_unix_socket \u001b[38;5;28;01mif\u001b[39;00m \u001b[38;5;28mself\u001b[39m\u001b[38;5;241m.\u001b[39m_unix_socket \u001b[38;5;28;01melse\u001b[39;00m \u001b[38;5;124mf\u001b[39m\u001b[38;5;124m\"\u001b[39m\u001b[38;5;132;01m{\u001b[39;00m\u001b[38;5;28mself\u001b[39m\u001b[38;5;241m.\u001b[39m_host\u001b[38;5;132;01m}\u001b[39;00m\u001b[38;5;124m:\u001b[39m\u001b[38;5;132;01m{\u001b[39;00m\u001b[38;5;28mself\u001b[39m\u001b[38;5;241m.\u001b[39m_port\u001b[38;5;132;01m}\u001b[39;00m\u001b[38;5;124m\"\u001b[39m\n\u001b[1;32m    675\u001b[0m     )\n",
      "\u001b[0;31mProgrammingError\u001b[0m: 1147 (42000): There is no such grant defined for user 'u_consult' on host '%' on table 'mensagens'"
     ]
    }
   ],
   "source": [
    "sql_ex04 = \"\"\"\n",
    "-- Revogar permissão de inserção na tabela `mensagens` para o usuário `u_consult`\n",
    "REVOKE INSERT ON `af_md_23_2`.`mensagens` FROM 'u_consult'@'%';\n",
    "\"\"\"\n",
    "\n",
    "db(sql_ex04)\n"
   ]
  },
  {
   "cell_type": "markdown",
   "id": "d1d9fbbe-9cbb-4de6-b66b-551deb80029a",
   "metadata": {},
   "source": [
    "Após testar localmente e considerar sua solução correta, faça o envio clicando no botão abaixo!"
   ]
  },
  {
   "cell_type": "code",
   "execution_count": 30,
   "id": "e5867621-6625-41ea-95ee-34585353d5aa",
   "metadata": {},
   "outputs": [
    {
     "data": {
      "application/vnd.jupyter.widget-view+json": {
       "model_id": "4bc24fff6167430d8e007f484fb235c3",
       "version_major": 2,
       "version_minor": 0
      },
      "text/plain": [
       "interactive(children=(Button(description='Enviar ex04perm', style=ButtonStyle()), Output()), _dom_classes=('wi…"
      ]
     },
     "execution_count": 30,
     "metadata": {},
     "output_type": "execute_result"
    }
   ],
   "source": [
    "ia.sender(answer=\"sql_ex04\", task=\"af_md_23_2\", question=\"ex04perm\", answer_type=\"pyvar\")"
   ]
  },
  {
   "cell_type": "markdown",
   "id": "0c42d590-f6e4-45bb-b919-ac5134a43873",
   "metadata": {},
   "source": [
    "**Exercício 5**:\n",
    "\n",
    "Um pesquisador irá analisar parte dos dados de um projeto científico para identificação de exoplanetas.\n",
    "\n",
    "Os dados do projeto são armazenados em um servidor com quatro HDs de 10TB configurados em RAID 5.\n",
    "\n",
    "Durante o projeto, surgiram questões como:\n",
    "\n",
    "*\"Considerando que são recebidos 14 GB por semana, quantos dias serão necessários para que se atinja 75% da capacidade disponível para armazenamento no servidor?\"*\n",
    "\n",
    "Para responder questões como esta rapidamente, você deve construir uma função `calc_dias_armazenamento` em python que recebe, nesta ordem:\n",
    "\n",
    "- `tb_por_hd`: quantidade de terabytes de cada um dos quatro HDs;\n",
    "- `gb_semana`: quantidade de novos dados recebidos a cada semana, em GB;\n",
    "- `perc`: capacidade percentual limite que se quer analisar. O percentual será passado no intervalo `[0.0 ... 1.0]`.\n",
    "\n",
    "Como resposta, você deve devolver a quantidade inteira de dias até que que a capacidade percentual seja atingida.\n",
    "\n",
    "**Obs**:\n",
    "- Considere o sistema internacional de unidades, ou seja, 1TB = 1000GB e 1GB=1000MB."
   ]
  },
  {
   "cell_type": "code",
   "execution_count": 34,
   "id": "187ef163-422a-4ec4-8abf-7ecae7155680",
   "metadata": {},
   "outputs": [
    {
     "name": "stdout",
     "output_type": "stream",
     "text": [
      "11250\n"
     ]
    }
   ],
   "source": [
    "def calc_dias_armazenamento(tb_por_hd, gb_semana, perc):\n",
    "    # Calcular a capacidade total utilizável em TB no RAID 5\n",
    "    capacidade_total_tb = (4 - 1) * tb_por_hd  # 4 HDs em RAID 5, menos 1 para paridade\n",
    "    \n",
    "    # Converter a capacidade total para GB\n",
    "    capacidade_total_gb = capacidade_total_tb * 1000  # 1 TB = 1000 GB\n",
    "    \n",
    "    # Calcular a capacidade alvo em GB\n",
    "    capacidade_alvo_gb = capacidade_total_gb * perc\n",
    "    \n",
    "    # Calcular o número de semanas para atingir a capacidade alvo\n",
    "    semanas_necessarias = capacidade_alvo_gb / gb_semana\n",
    "    \n",
    "    # Converter semanas para dias\n",
    "    dias_necessarios = semanas_necessarias * 7\n",
    "    \n",
    "    # Retornar a quantidade inteira de dias\n",
    "    return int(dias_necessarios)\n",
    "\n",
    "\n",
    "# Exemplo de uso\n",
    "tb_por_hd = 10  # cada HD tem 10 TB\n",
    "gb_semana = 14  # são recebidos 14 GB por semana\n",
    "perc = 0.75  # queremos saber quando será atingido 75% da capacidade\n",
    "\n",
    "print(calc_dias_armazenamento(tb_por_hd, gb_semana, perc))"
   ]
  },
  {
   "cell_type": "code",
   "execution_count": 35,
   "id": "c850584a-0dd9-4df5-99ef-e9a1b3cc4602",
   "metadata": {},
   "outputs": [],
   "source": [
    "# Alguns testes locais\n",
    "assert calc_dias_armazenamento(10, 14000, 0.5) == 7\n",
    "assert calc_dias_armazenamento(20, 12800, 0.9) == 29"
   ]
  },
  {
   "cell_type": "markdown",
   "id": "0969701f-811d-41e5-a790-c637fac3fd07",
   "metadata": {},
   "source": [
    "Após testar localmente e considerar sua solução correta, faça o envio clicando no botão abaixo!"
   ]
  },
  {
   "cell_type": "code",
   "execution_count": 33,
   "id": "a028bd6e",
   "metadata": {
    "scrolled": true
   },
   "outputs": [
    {
     "data": {
      "application/vnd.jupyter.widget-view+json": {
       "model_id": "f4bd0b7770754e7199a1241275dab1f2",
       "version_major": 2,
       "version_minor": 0
      },
      "text/plain": [
       "interactive(children=(Button(description='Enviar ex05python', style=ButtonStyle()), Output()), _dom_classes=('…"
      ]
     },
     "execution_count": 33,
     "metadata": {},
     "output_type": "execute_result"
    }
   ],
   "source": [
    "ia.sender(answer=\"calc_dias_armazenamento\", task=\"af_md_23_2\", question=\"ex05python\", answer_type=\"pycode\")"
   ]
  },
  {
   "cell_type": "markdown",
   "id": "ebf33a4c",
   "metadata": {},
   "source": [
    "**Exercício 6**: (**Nota: 1,5**)\n",
    "\n",
    "Na atividade da próxima *sprint*, foi atribuido ao seu time de analistas de negócio a entrega de um *Dashboard* para acompanhamento dos números de vendas da empresa (vendas por região, vendas por categoria de produto, vendas por canal, etc.)\n",
    "\n",
    "Dado que isolamento é uma das propriedades fundamentais de bancos de dados relacionais e considerando que parte da especificação envolve:\n",
    "\n",
    "- O acompanhamento será feito em tempo real;\n",
    "- É ok ocorrerem imprecisões momentâneas.\n",
    "\n",
    "Justifique **qual nível de isolamento de transações** você recomendaria que fosse utilizado no projeto.\n",
    "\n",
    "Esta questão será corrigida considerando a seguinte rubrica:\n",
    "\n",
    "| Conceito | Nota | Descrição                                                                                                                                               |\n",
    "|:----------:|----------:|:---------------------------------------------------------------------------------------------------------------------------------------------------------|\n",
    "| I        | 0.0 |Apenas citou o assunto ou alguns fatos sem explicações                                                                                                  |\n",
    "| D        | 0.3 |Explicou superficialmente o assunto ou fatos mas sem muitos detalhes conclusivos                                                                        |\n",
    "| C        | 0.6 |Explicou com detalhes, apresentando definições concretas.                                                                                               |\n",
    "| B        | 0.8 |Explicou com detalhes, apresentando definições concretas e exemplos de uso.                                                                            |\n",
    "| A        | 1.0 |Explicou com detalhes, apresentando definições concretas, exemplos de uso e ainda outros tópicos correlatos, fazendo uma conexão lógica entre eles. |"
   ]
  },
  {
   "cell_type": "markdown",
   "id": "513de6bb",
   "metadata": {},
   "source": [
    "<div class=\"alert alert-success\">\n",
    "\n",
    "Sua resposta AQUI!\n",
    "\n",
    "</div>"
   ]
  },
  {
   "cell_type": "markdown",
   "id": "8d13d933",
   "metadata": {},
   "source": [
    "**Exercício 7**:\n",
    "\n",
    "Considere um cenário onde projetos são propostos por empresas em busca de financiamento. Cada projeto é proposto por apenas uma empresa, mas a empresa pode propor muitos projetos.\n",
    "\n",
    "Os projetos podem ou não receber apoio financeiro. Esta decisão é tomada por meio de uma votação, onde usuários membros de um grupo qualquer decidirão se apoiam ou não cada projeto. Cada usuário vota apenas uma vez em cada projeto (`S: sim`, `N: não`, `A: anula`).\n",
    "\n",
    "Considerando esta tabela de `votos`:\n",
    "\n",
    "| id_usuario(PK) | nome           | id_projeto(PK) | projeto     | descricao                              | id_empresa | empresa | voto |\n",
    "|----------------|----------------|----------------|-------------|----------------------------------------|------------|---------|------|\n",
    "| 20             | Antonio Soares | 1              | Sockerator  | Emparelhador de meias                  | 50         | UniX    | S    |\n",
    "| 21             | Marina Pereira | 1              | Sockerator  | Emparelhador de meias                  | 50         | UniX    | S    |\n",
    "| 22             | Camila Mert    | 1              | Sockerator  | Emparelhador de meias                  | 50         | UniX    | N    |\n",
    "| 20             | Antonio Soares | 2              | Snacktapult | Lança petiscos diretamente para a boca | 51         | Abx     | S    |\n",
    "| 22             | Camila Mert    | 2              | Snacktapult | Lança petiscos diretamente para a boca | 51         | Abx     | N    |\n",
    "| 20             | Antonio Soares | 3              | LazyHat     | Um boné com apoio para petiscos        | 50         | UniX    | A    |\n",
    "| 21             | Marina Pereira | 3              | Lazy Hat    | Um boné com apoio para petiscos        | 50         | UniX    | A    |\n",
    "\n",
    "Chamamos de normalização o processo de rearranjar o banco de dados para que obedeça às várias formas normais. Assim, reduzimos a redundância, aumentamos o desempenho e a integridade de dados.\n",
    "\n",
    "**a)** (**Nota: 1,0**) Ao analisar a tabela, um aluno fez a seguinte afirmação:\n",
    "\n",
    "*\"A tabela de `votos` está na `2NF` mas não está na `1NF`\"*\n",
    "\n",
    "A afirmação do aluno está correta? Justifique detalhadamente.\n",
    "\n",
    "Esta questão será corrigida considerando a seguinte rubrica:\n",
    "\n",
    "| Conceito | Nota | Descrição                                                                                                                                               |\n",
    "|:----------:|----------:|:---------------------------------------------------------------------------------------------------------------------------------------------------------|\n",
    "| I        | 0.0 |Apenas citou o assunto ou alguns fatos sem explicações                                                                                                  |\n",
    "| D        | 0.3 |Explicou superficialmente o assunto ou fatos mas sem muitos detalhes conclusivos                                                                        |\n",
    "| C        | 0.6 |Explicou com detalhes, apresentando definições concretas.                                                                                               |\n",
    "| B        | 0.8 |Explicou com detalhes, apresentando definições concretas e exemplos de uso.                                                                            |\n",
    "| A        | 1.0 |Explicou com detalhes, apresentando definições concretas, exemplos de uso e ainda outros tópicos correlatos, fazendo uma conexão lógica entre eles. |"
   ]
  },
  {
   "cell_type": "markdown",
   "id": "d0be9d61-2838-4134-8776-f3e37c27bb8c",
   "metadata": {},
   "source": [
    "<div class=\"alert alert-success\">\n",
    "\n",
    "Sua resposta AQUI!\n",
    "\n",
    "</div>"
   ]
  },
  {
   "cell_type": "markdown",
   "id": "838877f5-1cf9-44c3-a518-503ea44bf721",
   "metadata": {},
   "source": [
    "**b**) (**Nota: 1,5**) Proponha modificações até que esteja na `3NF`.\n",
    "\n",
    "**Obs**:\n",
    "- Faça um passo a passo, deixando claro sua motivação em cada etapa.\n",
    "- Você não deve gerar SQL, apenas texto e tabelas markdown!"
   ]
  },
  {
   "cell_type": "markdown",
   "id": "3b3813fa",
   "metadata": {},
   "source": [
    "<div class=\"alert alert-success\">\n",
    "\n",
    "Sua resposta AQUI!\n",
    "    \n",
    "Crie quantas tabelas precisar!\n",
    "\n",
    "Dica: você pode editar tabelas markdown em https://www.tablesgenerator.com/markdown_tables\n",
    "</div>"
   ]
  },
  {
   "cell_type": "markdown",
   "id": "405230dc",
   "metadata": {},
   "source": [
    "### Conferindo as notas!"
   ]
  },
  {
   "cell_type": "code",
   "execution_count": 36,
   "id": "b65540cb",
   "metadata": {},
   "outputs": [
    {
     "data": {
      "text/markdown": [
       "|    | Atividade   | Exercício   |   Peso |   Nota |\n",
       "|---:|:------------|:------------|-------:|-------:|\n",
       "|  0 | af_md_23_2  | ex01spark   |      2 |     10 |\n",
       "|  1 | af_md_23_2  | ex02spark   |      3 |     10 |\n",
       "|  2 | af_md_23_2  | ex03trigger |      3 |     10 |\n",
       "|  3 | af_md_23_2  | ex04perm    |      1 |     10 |\n",
       "|  4 | af_md_23_2  | ex05python  |      2 |     10 |"
      ],
      "text/plain": [
       "<IPython.core.display.Markdown object>"
      ]
     },
     "metadata": {},
     "output_type": "display_data"
    }
   ],
   "source": [
    "ia.grades(task=\"af_md_23_2\")"
   ]
  },
  {
   "cell_type": "code",
   "execution_count": 37,
   "id": "342db676-b092-4966-b277-94c02f8fc98b",
   "metadata": {},
   "outputs": [
    {
     "data": {
      "text/markdown": [
       "|    | Tarefa     |   Nota |\n",
       "|---:|:-----------|-------:|\n",
       "|  0 | af_md_23_2 |     10 |"
      ],
      "text/plain": [
       "<IPython.core.display.Markdown object>"
      ]
     },
     "metadata": {},
     "output_type": "display_data"
    }
   ],
   "source": [
    "ia.grades(by=\"TASK\", task=\"af_md_23_2\")"
   ]
  },
  {
   "cell_type": "markdown",
   "id": "5f091821",
   "metadata": {},
   "source": [
    "## Entrega!\n",
    "\n",
    "É hora de entregar. Faça `commit` e finalize o teste no proctorio!"
   ]
  }
 ],
 "metadata": {
  "kernelspec": {
   "display_name": "Python 3 (ipykernel)",
   "language": "python",
   "name": "python3"
  },
  "language_info": {
   "codemirror_mode": {
    "name": "ipython",
    "version": 3
   },
   "file_extension": ".py",
   "mimetype": "text/x-python",
   "name": "python",
   "nbconvert_exporter": "python",
   "pygments_lexer": "ipython3",
   "version": "3.11.1"
  }
 },
 "nbformat": 4,
 "nbformat_minor": 5
}
